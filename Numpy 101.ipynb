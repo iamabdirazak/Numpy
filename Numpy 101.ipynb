{
 "cells": [
  {
   "cell_type": "markdown",
   "id": "85a78f27",
   "metadata": {},
   "source": [
    "### 1. Importing Numpy"
   ]
  },
  {
   "cell_type": "code",
   "execution_count": 2,
   "id": "1b3a0964",
   "metadata": {},
   "outputs": [],
   "source": [
    "import numpy as np"
   ]
  },
  {
   "cell_type": "markdown",
   "id": "eb441f46",
   "metadata": {},
   "source": [
    "### 2. Creating Arrays"
   ]
  },
  {
   "cell_type": "code",
   "execution_count": 5,
   "id": "855cc841",
   "metadata": {},
   "outputs": [],
   "source": [
    "# From lists\n",
    "a = np.array([1, 2, 3])                # 1D\n",
    "b = np.array([[1, 2], [3, 4]])         # 2D\n",
    "c = np.array([[[1], [2]], [[3], [4]]]) # 3D tensor\n",
    "\n",
    "# Zeros / Ones / Random\n",
    "zeros = np.zeros((2, 3))              # 2x3 of zeros\n",
    "ones = np.ones((3, 1))                # 3x1 of ones\n",
    "rand = np.random.rand(2, 2, 2)        # 3D random tensor\n",
    "\n",
    "# Ranges\n",
    "arange = np.arange(0, 10, 2)          # [0, 2, 4, 6, 8]\n",
    "linspace = np.linspace(0, 1, 5)       # [0. , 0.25, ..., 1.]"
   ]
  },
  {
   "cell_type": "code",
   "execution_count": 6,
   "id": "c8fa7f50",
   "metadata": {},
   "outputs": [
    {
     "name": "stdout",
     "output_type": "stream",
     "text": [
      "[1 2 3] [[1 2]\n",
      " [3 4]] [[[1]\n",
      "  [2]]\n",
      "\n",
      " [[3]\n",
      "  [4]]]\n",
      "[[0. 0. 0.]\n",
      " [0. 0. 0.]] [[1.]\n",
      " [1.]\n",
      " [1.]] [[[0.96969859 0.54246157]\n",
      "  [0.7282583  0.94484446]]\n",
      "\n",
      " [[0.48850549 0.86990744]\n",
      "  [0.6471516  0.02250084]]]\n",
      "[0 2 4 6 8] [0.   0.25 0.5  0.75 1.  ]\n"
     ]
    }
   ],
   "source": [
    "print(a, b, c)\n",
    "print(zeros, ones, rand)\n",
    "print(arange, linspace)"
   ]
  },
  {
   "cell_type": "markdown",
   "id": "c8df6413",
   "metadata": {},
   "source": [
    "### 3. Inspecting Arrays"
   ]
  },
  {
   "cell_type": "code",
   "execution_count": 8,
   "id": "415d3770",
   "metadata": {},
   "outputs": [
    {
     "name": "stdout",
     "output_type": "stream",
     "text": [
      "(2, 3)\n",
      "2\n",
      "6\n",
      "int64\n",
      "8\n"
     ]
    }
   ],
   "source": [
    "a = np.array([[1, 2, 3], [4, 5, 6]])\n",
    "\n",
    "print(a.shape)   # (2, 3)\n",
    "print(a.ndim)    # 2 (number of dimensions)\n",
    "print(a.size)    # 6 (total elements)\n",
    "print(a.dtype)   # data type, e.g., int64\n",
    "print(a.itemsize) # size in bytes of each element"
   ]
  },
  {
   "cell_type": "markdown",
   "id": "1f98925d",
   "metadata": {},
   "source": [
    "### 4. Element-wise Operations"
   ]
  },
  {
   "cell_type": "code",
   "execution_count": 9,
   "id": "e8e8f0e1",
   "metadata": {},
   "outputs": [
    {
     "name": "stdout",
     "output_type": "stream",
     "text": [
      "[11 22 33]\n",
      "[2 4 6]\n",
      "[1 4 9]\n",
      "[ 2.71828183  7.3890561  20.08553692]\n",
      "[1.         1.41421356 1.73205081]\n"
     ]
    }
   ],
   "source": [
    "x = np.array([1, 2, 3])\n",
    "y = np.array([10, 20, 30])\n",
    "\n",
    "print(x + y)      # [11, 22, 33]\n",
    "print(x * 2)      # [2, 4, 6]\n",
    "print(x ** 2)     # [1, 4, 9]\n",
    "print(np.exp(x))  # e^x for each element\n",
    "print(np.sqrt(x)) # square root"
   ]
  },
  {
   "cell_type": "markdown",
   "id": "b84a7190",
   "metadata": {},
   "source": [
    "### 5. Broadcasting"
   ]
  },
  {
   "cell_type": "code",
   "execution_count": 10,
   "id": "1c947608",
   "metadata": {},
   "outputs": [],
   "source": [
    "a = np.array([[1], [2], [3]])  # shape (3, 1)\n",
    "b = np.array([10, 20, 30])     # shape (3,)\n",
    "\n",
    "result = a * b  # shape (3, 3) -- broadcasted"
   ]
  },
  {
   "cell_type": "code",
   "execution_count": null,
   "id": "e6b70a73",
   "metadata": {},
   "outputs": [],
   "source": []
  }
 ],
 "metadata": {
  "kernelspec": {
   "display_name": "Python 3",
   "language": "python",
   "name": "python3"
  },
  "language_info": {
   "codemirror_mode": {
    "name": "ipython",
    "version": 3
   },
   "file_extension": ".py",
   "mimetype": "text/x-python",
   "name": "python",
   "nbconvert_exporter": "python",
   "pygments_lexer": "ipython3",
   "version": "3.13.5"
  }
 },
 "nbformat": 4,
 "nbformat_minor": 5
}
