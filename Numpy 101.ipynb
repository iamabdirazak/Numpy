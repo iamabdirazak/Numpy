{
 "cells": [
  {
   "cell_type": "markdown",
   "id": "85a78f27",
   "metadata": {},
   "source": [
    "### 1. Importing Numpy"
   ]
  },
  {
   "cell_type": "code",
   "execution_count": 9,
   "id": "1b3a0964",
   "metadata": {},
   "outputs": [],
   "source": [
    "import numpy as np"
   ]
  },
  {
   "cell_type": "markdown",
   "id": "eb441f46",
   "metadata": {},
   "source": [
    "### 2. Creating Arrays"
   ]
  },
  {
   "cell_type": "code",
   "execution_count": 10,
   "id": "855cc841",
   "metadata": {},
   "outputs": [],
   "source": [
    "# From lists\n",
    "a = np.array([1, 2, 3])                # 1D\n",
    "b = np.array([[1, 2], [3, 4]])         # 2D\n",
    "c = np.array([[[1], [2]], [[3], [4]]]) # 3D tensor\n",
    " \n",
    "# Zeros / Ones / Random\n",
    "zeros = np.zeros((2, 3))              # 2x3 of zeros\n",
    "ones = np.ones((3, 1))                # 3x1 of ones\n",
    "rand = np.random.rand(2, 2, 2)        # 3D random tensor\n",
    "\n",
    "# Ranges\n",
    "arange = np.arange(0, 10, 2)          # [0, 2, 4, 6, 8]\n",
    "linspace = np.linspace(0, 1, 5)       # [0. , 0.25, ..., 1.]"
   ]
  },
  {
   "cell_type": "code",
   "execution_count": 12,
   "id": "a2807afd",
   "metadata": {},
   "outputs": [
    {
     "name": "stdout",
     "output_type": "stream",
     "text": [
      "Zeroes [[0. 0. 0.]\n",
      " [0. 0. 0.]]\n",
      "Ones [[1.]\n",
      " [1.]\n",
      " [1.]]\n",
      "Random [[[0.29394361 0.89614207]\n",
      "  [0.5431233  0.59465888]]\n",
      "\n",
      " [[0.22572237 0.60329077]\n",
      "  [0.3176353  0.9366115 ]]]\n",
      "Arange [0 2 4 6 8]\n",
      "Linspace [0.   0.25 0.5  0.75 1.  ]\n"
     ]
    }
   ],
   "source": [
    "print('Zeroes', zeros)\n",
    "print('Ones', ones)\n",
    "print('Random', rand)\n",
    "print('Arange', arange)\n",
    "print('Linspace', linspace)"
   ]
  },
  {
   "cell_type": "code",
   "execution_count": 6,
   "id": "c8fa7f50",
   "metadata": {},
   "outputs": [
    {
     "name": "stdout",
     "output_type": "stream",
     "text": [
      "[1 2 3] [[1 2]\n",
      " [3 4]] [[[1]\n",
      "  [2]]\n",
      "\n",
      " [[3]\n",
      "  [4]]]\n",
      "[[0. 0. 0.]\n",
      " [0. 0. 0.]] [[1.]\n",
      " [1.]\n",
      " [1.]] [[[0.96969859 0.54246157]\n",
      "  [0.7282583  0.94484446]]\n",
      "\n",
      " [[0.48850549 0.86990744]\n",
      "  [0.6471516  0.02250084]]]\n",
      "[0 2 4 6 8] [0.   0.25 0.5  0.75 1.  ]\n"
     ]
    }
   ],
   "source": [
    "print(a, b, c)\n",
    "print(zeros, ones, rand)\n",
    "print(arange, linspace)"
   ]
  },
  {
   "cell_type": "markdown",
   "id": "c8df6413",
   "metadata": {},
   "source": [
    "### 3. Inspecting Arrays"
   ]
  },
  {
   "cell_type": "code",
   "execution_count": 13,
   "id": "415d3770",
   "metadata": {},
   "outputs": [
    {
     "name": "stdout",
     "output_type": "stream",
     "text": [
      "(2, 3)\n",
      "2\n",
      "6\n",
      "int64\n",
      "8\n"
     ]
    }
   ],
   "source": [
    "a = np.array([[1, 2, 3], [4, 5, 6]])\n",
    "\n",
    "print(a.shape)   # (2, 3)\n",
    "print(a.ndim)    # 2 (number of dimensions)\n",
    "print(a.size)    # 6 (total elements)\n",
    "print(a.dtype)   # data type, e.g., int64\n",
    "print(a.itemsize) # size in bytes of each element"
   ]
  },
  {
   "cell_type": "code",
   "execution_count": null,
   "id": "422b726f",
   "metadata": {},
   "outputs": [
    {
     "name": "stdout",
     "output_type": "stream",
     "text": [
      "[[1 2]\n",
      " [4 5]]\n"
     ]
    }
   ],
   "source": [
    "# Slicing and indexing\n",
    "print(a[0, 1])          # 2 (element at row 0, column 1)\n",
    "print(a[:, 1])          # [2, 5] (all rows, column 1)\n",
    "print(a[1, :])          # [4, 5, 6] (row 1, all columns)\n",
    "print(a[0:2,:2])      # [[1, 3], [4, 6]] (first two rows, every second column)"
   ]
  },
  {
   "cell_type": "markdown",
   "id": "1f98925d",
   "metadata": {},
   "source": [
    "### 4. Element-wise Operations"
   ]
  },
  {
   "cell_type": "code",
   "execution_count": 9,
   "id": "e8e8f0e1",
   "metadata": {},
   "outputs": [
    {
     "name": "stdout",
     "output_type": "stream",
     "text": [
      "[11 22 33]\n",
      "[2 4 6]\n",
      "[1 4 9]\n",
      "[ 2.71828183  7.3890561  20.08553692]\n",
      "[1.         1.41421356 1.73205081]\n"
     ]
    }
   ],
   "source": [
    "x = np.array([1, 2, 3])\n",
    "y = np.array([10, 20, 30])\n",
    "\n",
    "print(x + y)      # [11, 22, 33]\n",
    "print(x * 2)      # [2, 4, 6]\n",
    "print(x ** 2)     # [1, 4, 9]\n",
    "print(np.exp(x))  # e^x for each element\n",
    "print(np.sqrt(x)) # square root"
   ]
  },
  {
   "cell_type": "code",
   "execution_count": 18,
   "id": "caa440b2",
   "metadata": {},
   "outputs": [],
   "source": [
    "# Math operations\n",
    "list1 = np.random.rand(10)\n",
    "list2 = np.random.rand(10)"
   ]
  },
  {
   "cell_type": "code",
   "execution_count": 23,
   "id": "b668d576",
   "metadata": {},
   "outputs": [],
   "source": [
    "# Basic operations\n",
    "\n",
    "add = np.add(list1, list2)          # Element-wise addition\n",
    "subtract = np.subtract(list1, list2) # Element-wise subtraction\n",
    "multiply = np.multiply(list1, list2) # Element-wise multiplication\n",
    "divide = np.divide(list1, list2)     # Element-wise division"
   ]
  },
  {
   "cell_type": "code",
   "execution_count": 24,
   "id": "93b34a7c",
   "metadata": {},
   "outputs": [
    {
     "name": "stdout",
     "output_type": "stream",
     "text": [
      "Addition: [1.32912742 0.71387729 0.75053257 0.77504061 1.38652949 1.33257103\n",
      " 1.41548309 0.48494962 0.90993206 0.87225928]\n",
      "Subtraction: [-0.59465614  0.1415687   0.41640502  0.61689088  0.54554791  0.48083215\n",
      " -0.19673218  0.13829554  0.57031173  0.78329446]\n",
      "Multiplication: [0.35324094 0.12239477 0.0974765  0.0550334  0.40621038 0.38613649\n",
      " 0.49122221 0.05401262 0.12568022 0.03682151]\n",
      "Division: [ 0.38178478  1.49472855  3.49249139  8.80135225  2.2974075   2.12906002\n",
      "  0.755948    1.79788785  4.35852527 18.60908403]\n"
     ]
    }
   ],
   "source": [
    "print ('Addition:', add)\n",
    "print ('Subtraction:', subtract)\n",
    "print ('Multiplication:', multiply)\n",
    "print ('Division:', divide)"
   ]
  },
  {
   "cell_type": "code",
   "execution_count": 25,
   "id": "5133515b",
   "metadata": {},
   "outputs": [
    {
     "data": {
      "text/plain": [
       "numpy.ndarray"
      ]
     },
     "execution_count": 25,
     "metadata": {},
     "output_type": "execute_result"
    }
   ],
   "source": [
    "type(list1)"
   ]
  },
  {
   "cell_type": "code",
   "execution_count": 26,
   "id": "17816be8",
   "metadata": {},
   "outputs": [
    {
     "data": {
      "text/plain": [
       "array([0.36723564, 0.42772299, 0.58346879, 0.69596575, 0.9660387 ,\n",
       "       0.90670159, 0.60937545, 0.31162258, 0.74012189, 0.82777687])"
      ]
     },
     "execution_count": 26,
     "metadata": {},
     "output_type": "execute_result"
    }
   ],
   "source": [
    "list1"
   ]
  },
  {
   "cell_type": "code",
   "execution_count": 27,
   "id": "550c737b",
   "metadata": {},
   "outputs": [
    {
     "data": {
      "text/plain": [
       "array([0.36723564, 0.42772299, 0.58346879, 0.69596575, 0.9660387 ,\n",
       "       0.90670159, 0.60937545, 0.31162258, 0.74012189, 0.82777687])"
      ]
     },
     "execution_count": 27,
     "metadata": {},
     "output_type": "execute_result"
    }
   ],
   "source": [
    "list1.T # Transpose (not applicable for 1D arrays, but shown for completeness)"
   ]
  },
  {
   "cell_type": "code",
   "execution_count": 28,
   "id": "24079a34",
   "metadata": {},
   "outputs": [
    {
     "name": "stdout",
     "output_type": "stream",
     "text": [
      "Dot product: 2.12822903513489\n"
     ]
    }
   ],
   "source": [
    "dot = np.dot(list1, list2)  # Dot product\n",
    "print('Dot product:', dot)"
   ]
  },
  {
   "cell_type": "markdown",
   "id": "b84a7190",
   "metadata": {},
   "source": [
    "### 5. Broadcasting"
   ]
  },
  {
   "cell_type": "code",
   "execution_count": 10,
   "id": "1c947608",
   "metadata": {},
   "outputs": [],
   "source": [
    "a = np.array([[1], [2], [3]])  # shape (3, 1)\n",
    "b = np.array([10, 20, 30])     # shape (3,)\n",
    "\n",
    "result = a * b  # shape (3, 3) -- broadcasted"
   ]
  },
  {
   "cell_type": "markdown",
   "id": "e6b70a73",
   "metadata": {},
   "source": [
    "### 6. Reshape, Flatten, Transpose"
   ]
  },
  {
   "cell_type": "code",
   "execution_count": 4,
   "id": "0f63e051",
   "metadata": {},
   "outputs": [
    {
     "name": "stdout",
     "output_type": "stream",
     "text": [
      "[[1 2]\n",
      " [3 4]\n",
      " [5 6]]\n",
      "[1 2 3 4 5 6]\n",
      "Transposed array: [[1 4]\n",
      " [2 5]\n",
      " [3 6]]\n"
     ]
    }
   ],
   "source": [
    "a = np.array([[1, 2, 3], [4, 5, 6]])\n",
    "\n",
    "print(a.reshape(3, 2))    # shape becomes (3, 2)\n",
    "print(a.flatten())        # [1 2 3 4 5 6]\n",
    "print(f'Transposed array: {a.T}')                # transpose"
   ]
  },
  {
   "cell_type": "markdown",
   "id": "322368de",
   "metadata": {},
   "source": [
    "### 7. Stacking and Concatenation"
   ]
  },
  {
   "cell_type": "code",
   "execution_count": 5,
   "id": "541a0e23",
   "metadata": {},
   "outputs": [
    {
     "name": "stdout",
     "output_type": "stream",
     "text": [
      "[[1 2]\n",
      " [3 4]]\n",
      "[[1 2 3 4]]\n"
     ]
    }
   ],
   "source": [
    "a = np.array([[1, 2]])\n",
    "b = np.array([[3, 4]])\n",
    "\n",
    "print(np.vstack((a, b)))   # Vertical stack → [[1, 2], [3, 4]]\n",
    "print(np.hstack((a, b)))   # Horizontal → [[1, 2, 3, 4]]"
   ]
  },
  {
   "cell_type": "markdown",
   "id": "23230271",
   "metadata": {},
   "source": [
    "### 8. Saving and Loading"
   ]
  },
  {
   "cell_type": "code",
   "execution_count": 6,
   "id": "838274f3",
   "metadata": {},
   "outputs": [],
   "source": [
    "# Save/load in .npy (binary)\n",
    "np.save('array.npy', a)\n",
    "a_loaded = np.load('array.npy')\n",
    "\n",
    "# Save/load in text\n",
    "np.savetxt('array.txt', a)\n",
    "a_txt = np.loadtxt('array.txt')"
   ]
  },
  {
   "cell_type": "markdown",
   "id": "169beffb",
   "metadata": {},
   "source": [
    "### 9. Type Casting"
   ]
  },
  {
   "cell_type": "code",
   "execution_count": 7,
   "id": "8f956ab6",
   "metadata": {},
   "outputs": [],
   "source": [
    "a = np.array([1.2, 3.4, 5.6])\n",
    "a_int = a.astype(int)  # [1 3 5]"
   ]
  },
  {
   "cell_type": "markdown",
   "id": "57bac086",
   "metadata": {},
   "source": [
    "### 10. Stat Functions"
   ]
  },
  {
   "cell_type": "code",
   "execution_count": 29,
   "id": "d489d80c",
   "metadata": {},
   "outputs": [],
   "source": [
    "sqrt = np.sqrt(25)    # 5.0\n",
    "abs_value = np.abs(-10)  # 10\n",
    "power = np.power(2, 3)  # 8 (2 raised to the power of 3)\n",
    "log = np.log(10)      # Natural logarithm of 10\n",
    "exp = np.exp(2)      # e^2\n",
    "mins = np.min(list1)        # 1.2\n",
    "maxs = np.max(list1)        # 9.8\n"
   ]
  },
  {
   "cell_type": "code",
   "execution_count": 30,
   "id": "15d566ad",
   "metadata": {},
   "outputs": [
    {
     "name": "stdout",
     "output_type": "stream",
     "text": [
      "Square root: 5.0\n",
      "Absolute value: 10\n",
      "Power: 8\n",
      "Logarithm: 2.302585092994046\n",
      "Exponential: 7.38905609893065\n",
      "Minimum: 0.3116225769776225\n",
      "Maximum: 0.9660386971442769\n"
     ]
    }
   ],
   "source": [
    "print('Square root:', sqrt)\n",
    "print('Absolute value:', abs_value)\n",
    "print('Power:', power)\n",
    "print('Logarithm:', log)\n",
    "print('Exponential:', exp)\n",
    "print('Minimum:', mins)\n",
    "print('Maximum:', maxs)"
   ]
  },
  {
   "cell_type": "code",
   "execution_count": 31,
   "id": "c6b2b836",
   "metadata": {},
   "outputs": [
    {
     "name": "stdout",
     "output_type": "stream",
     "text": [
      "Sorted list1: [0.31162258 0.36723564 0.42772299 0.58346879 0.60937545 0.69596575\n",
      " 0.74012189 0.82777687 0.90670159 0.9660387 ]\n"
     ]
    }
   ],
   "source": [
    "list1.sort()  # Sorts in place\n",
    "print('Sorted list1:', list1)"
   ]
  },
  {
   "cell_type": "markdown",
   "id": "2cb4ab98",
   "metadata": {},
   "source": [
    "### 11. Deleting Arrays"
   ]
  },
  {
   "cell_type": "code",
   "execution_count": 36,
   "id": "833583ff",
   "metadata": {},
   "outputs": [
    {
     "name": "stdout",
     "output_type": "stream",
     "text": [
      "After deletion: [0.31162258 0.36723564 0.42772299 0.58346879 0.60937545 0.69596575\n",
      " 0.74012189 0.82777687 0.90670159 0.9660387 ]\n"
     ]
    }
   ],
   "source": [
    "np.delete(list1, -1)  # Deletes the first element\n",
    "print('After deletion:', list1)"
   ]
  }
 ],
 "metadata": {
  "kernelspec": {
   "display_name": "Python 3",
   "language": "python",
   "name": "python3"
  },
  "language_info": {
   "codemirror_mode": {
    "name": "ipython",
    "version": 3
   },
   "file_extension": ".py",
   "mimetype": "text/x-python",
   "name": "python",
   "nbconvert_exporter": "python",
   "pygments_lexer": "ipython3",
   "version": "3.13.5"
  }
 },
 "nbformat": 4,
 "nbformat_minor": 5
}
